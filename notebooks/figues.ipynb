{
 "cells": [
  {
   "cell_type": "code",
   "execution_count": null,
   "metadata": {},
   "outputs": [],
   "source": [
    "import pandas as pd\n",
    "import seaborn as sns\n",
    "from glob import glob\n",
    "\n",
    "# sns.set_theme(style=\"ticks\", font=\"Linux Biolinum O\", font_scale=1.2)\n",
    "sns.set_theme(style=\"ticks\", font_scale=1.2)\n",
    "\n",
    "frames = [\n",
    "    pd.read_csv(\n",
    "        data,\n",
    "        names=[\n",
    "            \"protocol\",\n",
    "            \"app\",\n",
    "            \"drop rate\",\n",
    "            \"number of clients\",\n",
    "            \"throughput\",\n",
    "            \"average latency\"],\n",
    "        keep_default_na=False)\n",
    "    for data in glob(\"../data/saved-*.csv\")]\n",
    "data = pd.concat(frames, ignore_index=True)\n",
    "data"
   ]
  },
  {
   "cell_type": "code",
   "execution_count": null,
   "metadata": {},
   "outputs": [],
   "source": [
    "g = sns.relplot(\n",
    "    data=data[(data['app'] == 'null') & (data['drop rate'] == 0.)], kind=\"line\",\n",
    "    x=\"throughput\", y=\"average latency\", hue=\"protocol\",\n",
    "    height=2.56, aspect=2.)\n",
    "# g.set(ylim=(0, 6000))\n",
    "g.set(ylim=(0, 2000))"
   ]
  },
  {
   "cell_type": "code",
   "execution_count": null,
   "metadata": {},
   "outputs": [],
   "source": [
    "g = sns.catplot(\n",
    "    data=data[data['app'] == 'ycsb'], kind=\"bar\",\n",
    "    x=\"protocol\", y=\"throughput\",\n",
    "    height=2.56, aspect=2.)"
   ]
  },
  {
   "cell_type": "code",
   "execution_count": null,
   "metadata": {},
   "outputs": [],
   "source": [
    "g = sns.relplot(\n",
    "    data=data[(data['app'] == 'null') & (data['drop rate'] != 0.)], kind=\"line\",\n",
    "    x=\"drop rate\", y=\"throughput\", hue=\"protocol\",\n",
    "    height=2.56, aspect=2.)\n",
    "g.set(xscale='log')"
   ]
  }
 ],
 "metadata": {
  "kernelspec": {
   "display_name": "Python 3",
   "language": "python",
   "name": "python3"
  },
  "language_info": {
   "codemirror_mode": {
    "name": "ipython",
    "version": 3
   },
   "file_extension": ".py",
   "mimetype": "text/x-python",
   "name": "python",
   "nbconvert_exporter": "python",
   "pygments_lexer": "ipython3",
   "version": "3.8.10"
  }
 },
 "nbformat": 4,
 "nbformat_minor": 2
}
