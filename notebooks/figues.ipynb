{
 "cells": [
  {
   "cell_type": "code",
   "execution_count": null,
   "metadata": {},
   "outputs": [],
   "source": [
    "from zipfile import ZipFile\n",
    "from pathlib import Path\n",
    "from matplotlib import font_manager\n",
    "\n",
    "if not Path('./Fira-4.202').is_dir():\n",
    "    with ZipFile('./Fira-4.202.zip', 'r') as zip:\n",
    "        zip.extractall('.')\n",
    "    with open('./Fira-4.202/.gitignore', 'w') as ignore:\n",
    "        ignore.write('*')\n",
    "\n",
    "font_dirs = [\"./Fira-4.202/ttf/\"]  # The path to the custom font file.\n",
    "font_files = font_manager.findSystemFonts(fontpaths=font_dirs)\n",
    "\n",
    "for font_file in font_files:\n",
    "    font_manager.fontManager.addfont(font_file)"
   ]
  },
  {
   "cell_type": "code",
   "execution_count": null,
   "metadata": {},
   "outputs": [],
   "source": [
    "import pandas as pd\n",
    "import seaborn as sns\n",
    "from glob import glob\n",
    "\n",
    "sns.set_theme(style=\"ticks\", font=\"Fira Sans\")\n",
    "\n",
    "frames = [\n",
    "    pd.read_csv(\n",
    "        data,\n",
    "        names=[\n",
    "            \"protocol\",\n",
    "            \"app\",\n",
    "            \"drop rate\",\n",
    "            \"number of clients\",\n",
    "            \"throughput\",\n",
    "            \"average latency\"],\n",
    "        keep_default_na=False)\n",
    "    for data in glob(\"../data/saved-*.csv\")]\n",
    "data = pd.concat(frames, ignore_index=True)\n",
    "data"
   ]
  },
  {
   "cell_type": "code",
   "execution_count": null,
   "metadata": {},
   "outputs": [],
   "source": [
    "g = sns.relplot(\n",
    "    data=data[(data['app'] == 'null') & (data['drop rate'] == 0.)], \n",
    "    kind=\"line\",\n",
    "    x=\"throughput\", y=\"average latency\", hue=\"protocol\",\n",
    "    height=2.56, aspect=2.)\n",
    "g.set(ylim=(0, 5000))\n",
    "# g.set(ylim=(0, 2000))"
   ]
  },
  {
   "cell_type": "code",
   "execution_count": null,
   "metadata": {},
   "outputs": [],
   "source": [
    "g = sns.catplot(\n",
    "    data=data[data['app'] == 'ycsb'], \n",
    "    kind=\"bar\",\n",
    "    x=\"protocol\", y=\"throughput\",\n",
    "    order=['unreplicated', 'neo-hm', 'neo-pk', 'neo-bn', 'pbft', 'zyzzyva', 'zyzzyva-f', 'hotstuff', 'minbft'],\n",
    "    height=2.56, aspect=2.)\n",
    "g.set_xticklabels(rotation=30)"
   ]
  },
  {
   "cell_type": "code",
   "execution_count": null,
   "metadata": {},
   "outputs": [],
   "source": [
    "g = sns.relplot(\n",
    "    data=data[(data['app'] == 'null') & (data['drop rate'] != 0.)], \n",
    "    kind=\"line\",\n",
    "    x=\"drop rate\", y=\"throughput\", hue=\"protocol\",\n",
    "    height=2.56, aspect=2.)\n",
    "g.set(xscale='log')"
   ]
  }
 ],
 "metadata": {
  "kernelspec": {
   "display_name": "Python 3",
   "language": "python",
   "name": "python3"
  },
  "language_info": {
   "codemirror_mode": {
    "name": "ipython",
    "version": 3
   },
   "file_extension": ".py",
   "mimetype": "text/x-python",
   "name": "python",
   "nbconvert_exporter": "python",
   "pygments_lexer": "ipython3",
   "version": "3.10.12"
  }
 },
 "nbformat": 4,
 "nbformat_minor": 2
}
